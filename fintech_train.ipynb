{
  "nbformat": 4,
  "nbformat_minor": 0,
  "metadata": {
    "colab": {
      "name": "fintech_train.ipynb",
      "provenance": [],
      "authorship_tag": "ABX9TyOS1twL8beGaoqdBsoJ4ihm",
      "include_colab_link": true
    },
    "kernelspec": {
      "name": "python3",
      "display_name": "Python 3"
    }
  },
  "cells": [
    {
      "cell_type": "markdown",
      "metadata": {
        "id": "view-in-github",
        "colab_type": "text"
      },
      "source": [
        "<a href=\"https://colab.research.google.com/github/marongjun/risk_evaluation/blob/master/fintech_train.ipynb\" target=\"_parent\"><img src=\"https://colab.research.google.com/assets/colab-badge.svg\" alt=\"Open In Colab\"/></a>"
      ]
    },
    {
      "cell_type": "code",
      "metadata": {
        "id": "6IL6ndWz1u-P",
        "colab_type": "code",
        "colab": {}
      },
      "source": [
        "import pandas as pd\n",
        "\n",
        "df_tag = pd.read_csv('./train_tag.csv')"
      ],
      "execution_count": 0,
      "outputs": []
    },
    {
      "cell_type": "code",
      "metadata": {
        "id": "GLD_9pja9TLJ",
        "colab_type": "code",
        "colab": {}
      },
      "source": [
        "# store column id as training labels\n",
        "train_labels = df_tag['flag']\n",
        "train_labels.to_csv('labels.csv')"
      ],
      "execution_count": 0,
      "outputs": []
    },
    {
      "cell_type": "code",
      "metadata": {
        "id": "fl-qM3r35897",
        "colab_type": "code",
        "colab": {}
      },
      "source": [
        "#clean data: fill null value and '\\N' with flag value -999\n",
        "df_tag = df_tag.replace('\\\\N', -999)\n",
        "df_tag = df_tag.fillna(-999)\n",
        "df_tag.drop(['id','flag'],axis=1, inplace=True)\n",
        "\n",
        "# One hot encoding categorical variables\n",
        "df_tag = pd.concat([df_tag, pd.get_dummies(data=df_tag,\n",
        "                                           columns=['gdr_cd','mrg_situ_cd','edu_deg_cd','acdm_deg_cd','deg_cd'],\n",
        "                                           prefix=['gender','marrige', 'education','academic_degree','degree']\n",
        "                                           )],axis=1)\n",
        "df_tag.drop(['gdr_cd','mrg_situ_cd','edu_deg_cd','acdm_deg_cd','deg_cd'],axis=1, inplace=True)\n",
        "\n",
        "#check if still any null value exists, convert all datatypes to numeric, then check datatypes\n",
        "df_tag.isnull().sum\n",
        "train_data = df_tag.apply(pd.to_numeric)\n",
        "train_data.dtypes\n",
        "\n",
        "#save training matrix\n",
        "train_data.to_csv('train_data.csv')"
      ],
      "execution_count": 0,
      "outputs": []
    },
    {
      "cell_type": "code",
      "metadata": {
        "id": "Da-uuV7S9Mo8",
        "colab_type": "code",
        "colab": {}
      },
      "source": [
        "import tensorflow as tf\n",
        "from tensorflow import keras\n",
        "\n",
        "layers = tf.keras.layers\n",
        "\n",
        "model_mlp = tf.keras.models.Sequential()\n",
        "model_mlp.add(layers.Dense(256, activation=tf.nn.relu, input_shape=(train_data.shape[1],)))\n",
        "model_mlp.add(layers.Dropout(0.2))\n",
        "model_mlp.add(layers.Dense(128, activation=tf.nn.relu))\n",
        "model_mlp.add(layers.Dropout(0.2))\n",
        "model_mlp.add(layers.Dense(128, activation=tf.nn.relu))\n",
        "model_mlp.add(layers.Dropout(0.2))\n",
        "model_mlp.add(layers.Dense(2, activation=tf.nn.softmax))\n",
        "model_mlp.compile(optimizer = 'adam',\n",
        "           loss = 'sparse_categorical_crossentropy',\n",
        "           metrics=['accuracy'])"
      ],
      "execution_count": 0,
      "outputs": []
    },
    {
      "cell_type": "code",
      "metadata": {
        "id": "eo9WoluzEIWU",
        "colab_type": "code",
        "colab": {
          "base_uri": "https://localhost:8080/",
          "height": 374
        },
        "outputId": "b7e3542b-b4c6-41a9-93f4-30720861a541"
      },
      "source": [
        "model_mlp.fit(train_data, train_labels, batch_size=64, epochs=10, shuffle=True)"
      ],
      "execution_count": 141,
      "outputs": [
        {
          "output_type": "stream",
          "text": [
            "Epoch 1/10\n",
            "624/624 [==============================] - 2s 3ms/step - loss: 4.6560 - accuracy: 0.6955\n",
            "Epoch 2/10\n",
            "624/624 [==============================] - 2s 3ms/step - loss: 0.6161 - accuracy: 0.7664\n",
            "Epoch 3/10\n",
            "624/624 [==============================] - 2s 3ms/step - loss: 0.5533 - accuracy: 0.7735\n",
            "Epoch 4/10\n",
            "624/624 [==============================] - 2s 3ms/step - loss: 0.5411 - accuracy: 0.7745\n",
            "Epoch 5/10\n",
            "624/624 [==============================] - 2s 3ms/step - loss: 0.5396 - accuracy: 0.7752\n",
            "Epoch 6/10\n",
            "624/624 [==============================] - 2s 3ms/step - loss: 0.5337 - accuracy: 0.7754\n",
            "Epoch 7/10\n",
            "624/624 [==============================] - 2s 3ms/step - loss: 0.5339 - accuracy: 0.7754\n",
            "Epoch 8/10\n",
            "624/624 [==============================] - 2s 3ms/step - loss: 0.5470 - accuracy: 0.7753\n",
            "Epoch 9/10\n",
            "624/624 [==============================] - 2s 3ms/step - loss: 0.5359 - accuracy: 0.7755\n",
            "Epoch 10/10\n",
            "624/624 [==============================] - 2s 3ms/step - loss: 0.5328 - accuracy: 0.7756\n"
          ],
          "name": "stdout"
        },
        {
          "output_type": "execute_result",
          "data": {
            "text/plain": [
              "<tensorflow.python.keras.callbacks.History at 0x7f256582cb70>"
            ]
          },
          "metadata": {
            "tags": []
          },
          "execution_count": 141
        }
      ]
    },
    {
      "cell_type": "code",
      "metadata": {
        "id": "7DkCOeJ5GUpq",
        "colab_type": "code",
        "colab": {
          "base_uri": "https://localhost:8080/",
          "height": 34
        },
        "outputId": "444b0fc0-3dc3-4bad-ffc0-2aecee21e895"
      },
      "source": [
        "import pandas as pd\n",
        "\n",
        "df_tag_test = pd.read_csv('./evaluate_tag.csv')\n",
        "test_id = df_tag_test['id']\n",
        "\n",
        "#clean data: fill null value and '\\N' with flag value -999\n",
        "df_tag_test  = df_tag_test .replace('\\\\N', -999)\n",
        "df_tag_test  = df_tag_test .fillna(-999)\n",
        "df_tag_test .drop(['id'],axis=1, inplace=True)\n",
        "\n",
        "# One hot encoding categorical variables\n",
        "df_tag_test  = pd.concat([df_tag_test , pd.get_dummies(data = df_tag_test ,\n",
        "                                           columns=['gdr_cd','mrg_situ_cd','edu_deg_cd','acdm_deg_cd','deg_cd'],\n",
        "                                           prefix=['gender','marrige', 'education','academic_degree','degree']\n",
        "                                           )],axis=1)\n",
        "df_tag_test .drop(['gdr_cd','mrg_situ_cd','edu_deg_cd','acdm_deg_cd','deg_cd'],axis=1, inplace=True)\n",
        "\n",
        "#check if still any null value exists, convert all datatypes to numeric, then check datatypes\n",
        "df_tag_test .isnull().sum\n",
        "test_data = df_tag_test .apply(pd.to_numeric)\n",
        "test_data.dtypes\n",
        "print(test_data.shape)"
      ],
      "execution_count": 148,
      "outputs": [
        {
          "output_type": "stream",
          "text": [
            "(6000, 108)\n"
          ],
          "name": "stdout"
        }
      ]
    },
    {
      "cell_type": "code",
      "metadata": {
        "id": "sdpkDufwJLQq",
        "colab_type": "code",
        "colab": {
          "base_uri": "https://localhost:8080/",
          "height": 105
        },
        "outputId": "e33456ff-e069-4d8b-dfc9-340102219aa9"
      },
      "source": [
        "test_data.insert(88, \"education_J\", 0) \n",
        "train_column = list(train_data.columns)\n",
        "test_column = list(test_data.columns)\n",
        "print(train_data.columns.get_loc(\"education_J\"))\n",
        "print(train_column)\n",
        "print(test_column)\n",
        "print(test_data.shape)"
      ],
      "execution_count": 149,
      "outputs": [
        {
          "output_type": "stream",
          "text": [
            "88\n",
            "['age', 'job_year', 'ic_ind', 'fr_or_sh_ind', 'dnl_mbl_bnk_ind', 'dnl_bind_cmb_lif_ind', 'hav_car_grp_ind', 'hav_hou_grp_ind', 'l6mon_agn_ind', 'frs_agn_dt_cnt', 'vld_rsk_ases_ind', 'fin_rsk_ases_grd_cd', 'confirm_rsk_ases_lvl_typ_cd', 'cust_inv_rsk_endu_lvl_cd', 'l6mon_daim_aum_cd', 'tot_ast_lvl_cd', 'pot_ast_lvl_cd', 'bk1_cur_year_mon_avg_agn_amt_cd', 'l12mon_buy_fin_mng_whl_tms', 'l12_mon_fnd_buy_whl_tms', 'l12_mon_insu_buy_whl_tms', 'l12_mon_gld_buy_whl_tms', 'loan_act_ind', 'pl_crd_lmt_cd', 'ovd_30d_loan_tot_cnt', 'his_lng_ovd_day', 'hld_crd_card_grd_cd', 'crd_card_act_ind', 'l1y_crd_card_csm_amt_dlm_cd', 'atdd_type', 'perm_crd_lmt_cd', 'cur_debit_cnt', 'cur_credit_cnt', 'cur_debit_min_opn_dt_cnt', 'cur_credit_min_opn_dt_cnt', 'cur_debit_crd_lvl', 'age', 'job_year', 'ic_ind', 'fr_or_sh_ind', 'dnl_mbl_bnk_ind', 'dnl_bind_cmb_lif_ind', 'hav_car_grp_ind', 'hav_hou_grp_ind', 'l6mon_agn_ind', 'frs_agn_dt_cnt', 'vld_rsk_ases_ind', 'fin_rsk_ases_grd_cd', 'confirm_rsk_ases_lvl_typ_cd', 'cust_inv_rsk_endu_lvl_cd', 'l6mon_daim_aum_cd', 'tot_ast_lvl_cd', 'pot_ast_lvl_cd', 'bk1_cur_year_mon_avg_agn_amt_cd', 'l12mon_buy_fin_mng_whl_tms', 'l12_mon_fnd_buy_whl_tms', 'l12_mon_insu_buy_whl_tms', 'l12_mon_gld_buy_whl_tms', 'loan_act_ind', 'pl_crd_lmt_cd', 'ovd_30d_loan_tot_cnt', 'his_lng_ovd_day', 'hld_crd_card_grd_cd', 'crd_card_act_ind', 'l1y_crd_card_csm_amt_dlm_cd', 'atdd_type', 'perm_crd_lmt_cd', 'cur_debit_cnt', 'cur_credit_cnt', 'cur_debit_min_opn_dt_cnt', 'cur_credit_min_opn_dt_cnt', 'cur_debit_crd_lvl', 'gender_-999', 'gender_F', 'gender_M', 'marrige_-999', 'marrige_A', 'marrige_B', 'marrige_O', 'marrige_Z', 'marrige_~', 'education_-999', 'education_A', 'education_B', 'education_C', 'education_D', 'education_F', 'education_G', 'education_J', 'education_K', 'education_L', 'education_M', 'education_Z', 'education_~', 'academic_degree_-999', 'academic_degree_30', 'academic_degree_31', 'academic_degree_C', 'academic_degree_D', 'academic_degree_F', 'academic_degree_G', 'academic_degree_Z', 'degree_-999', 'degree_A', 'degree_B', 'degree_C', 'degree_D', 'degree_Z', 'degree_~']\n",
            "['age', 'job_year', 'ic_ind', 'fr_or_sh_ind', 'dnl_mbl_bnk_ind', 'dnl_bind_cmb_lif_ind', 'hav_car_grp_ind', 'hav_hou_grp_ind', 'l6mon_agn_ind', 'frs_agn_dt_cnt', 'vld_rsk_ases_ind', 'fin_rsk_ases_grd_cd', 'confirm_rsk_ases_lvl_typ_cd', 'cust_inv_rsk_endu_lvl_cd', 'l6mon_daim_aum_cd', 'tot_ast_lvl_cd', 'pot_ast_lvl_cd', 'bk1_cur_year_mon_avg_agn_amt_cd', 'l12mon_buy_fin_mng_whl_tms', 'l12_mon_fnd_buy_whl_tms', 'l12_mon_insu_buy_whl_tms', 'l12_mon_gld_buy_whl_tms', 'loan_act_ind', 'pl_crd_lmt_cd', 'ovd_30d_loan_tot_cnt', 'his_lng_ovd_day', 'hld_crd_card_grd_cd', 'crd_card_act_ind', 'l1y_crd_card_csm_amt_dlm_cd', 'atdd_type', 'perm_crd_lmt_cd', 'cur_debit_cnt', 'cur_credit_cnt', 'cur_debit_min_opn_dt_cnt', 'cur_credit_min_opn_dt_cnt', 'cur_debit_crd_lvl', 'age', 'job_year', 'ic_ind', 'fr_or_sh_ind', 'dnl_mbl_bnk_ind', 'dnl_bind_cmb_lif_ind', 'hav_car_grp_ind', 'hav_hou_grp_ind', 'l6mon_agn_ind', 'frs_agn_dt_cnt', 'vld_rsk_ases_ind', 'fin_rsk_ases_grd_cd', 'confirm_rsk_ases_lvl_typ_cd', 'cust_inv_rsk_endu_lvl_cd', 'l6mon_daim_aum_cd', 'tot_ast_lvl_cd', 'pot_ast_lvl_cd', 'bk1_cur_year_mon_avg_agn_amt_cd', 'l12mon_buy_fin_mng_whl_tms', 'l12_mon_fnd_buy_whl_tms', 'l12_mon_insu_buy_whl_tms', 'l12_mon_gld_buy_whl_tms', 'loan_act_ind', 'pl_crd_lmt_cd', 'ovd_30d_loan_tot_cnt', 'his_lng_ovd_day', 'hld_crd_card_grd_cd', 'crd_card_act_ind', 'l1y_crd_card_csm_amt_dlm_cd', 'atdd_type', 'perm_crd_lmt_cd', 'cur_debit_cnt', 'cur_credit_cnt', 'cur_debit_min_opn_dt_cnt', 'cur_credit_min_opn_dt_cnt', 'cur_debit_crd_lvl', 'gender_-999', 'gender_F', 'gender_M', 'marrige_-999', 'marrige_A', 'marrige_B', 'marrige_O', 'marrige_Z', 'marrige_~', 'education_-999', 'education_A', 'education_B', 'education_C', 'education_D', 'education_F', 'education_G', 'education_J', 'education_K', 'education_L', 'education_M', 'education_Z', 'education_~', 'academic_degree_-999', 'academic_degree_30', 'academic_degree_31', 'academic_degree_C', 'academic_degree_D', 'academic_degree_F', 'academic_degree_G', 'academic_degree_Z', 'degree_-999', 'degree_A', 'degree_B', 'degree_C', 'degree_D', 'degree_Z', 'degree_~']\n",
            "(6000, 109)\n"
          ],
          "name": "stdout"
        }
      ]
    },
    {
      "cell_type": "code",
      "metadata": {
        "id": "whtDiSesHeUR",
        "colab_type": "code",
        "colab": {
          "base_uri": "https://localhost:8080/",
          "height": 255
        },
        "outputId": "00e52709-7bb5-4b92-e0fd-a59162692b17"
      },
      "source": [
        "predictions = model_mlp.predict(test_data)\n",
        "pred = pd.DataFrame(predictions)\n",
        "print(pred)"
      ],
      "execution_count": 150,
      "outputs": [
        {
          "output_type": "stream",
          "text": [
            "            0        1\n",
            "0     0.77134  0.22866\n",
            "1     0.77134  0.22866\n",
            "2     0.77134  0.22866\n",
            "3     0.77134  0.22866\n",
            "4     0.77134  0.22866\n",
            "...       ...      ...\n",
            "5995  0.77134  0.22866\n",
            "5996  0.77134  0.22866\n",
            "5997  0.77173  0.22827\n",
            "5998  0.77134  0.22866\n",
            "5999  0.77134  0.22866\n",
            "\n",
            "[6000 rows x 2 columns]\n"
          ],
          "name": "stdout"
        }
      ]
    },
    {
      "cell_type": "code",
      "metadata": {
        "id": "MPwLHzxwLvuE",
        "colab_type": "code",
        "colab": {
          "base_uri": "https://localhost:8080/",
          "height": 255
        },
        "outputId": "c23da3d7-d18b-4141-8b33-6fdd6f31f4f4"
      },
      "source": [
        "result = pd.concat([test_id,pred[0]],axis=1)\n",
        "print(result)\n",
        "result.to_csv('predictions.csv')"
      ],
      "execution_count": 152,
      "outputs": [
        {
          "output_type": "stream",
          "text": [
            "           id        0\n",
            "0     UC37930  0.77134\n",
            "1     U5BE130  0.77134\n",
            "2     UD025AE  0.77134\n",
            "3     UC2D00D  0.77134\n",
            "4     UAF705D  0.77134\n",
            "...       ...      ...\n",
            "5995  U71611F  0.77134\n",
            "5996  U52CFE4  0.77134\n",
            "5997  U6A5425  0.77173\n",
            "5998  UB8871F  0.77134\n",
            "5999  U5573FB  0.77134\n",
            "\n",
            "[6000 rows x 2 columns]\n"
          ],
          "name": "stdout"
        }
      ]
    },
    {
      "cell_type": "code",
      "metadata": {
        "id": "ce3Cj0sgM1TK",
        "colab_type": "code",
        "colab": {}
      },
      "source": [
        "import numpy as np\n",
        "np.savetxt(r'result.txt', result.values, fmt='%s')"
      ],
      "execution_count": 0,
      "outputs": []
    },
    {
      "cell_type": "code",
      "metadata": {
        "id": "lB3HEOsZOmBs",
        "colab_type": "code",
        "colab": {}
      },
      "source": [
        ""
      ],
      "execution_count": 0,
      "outputs": []
    }
  ]
}